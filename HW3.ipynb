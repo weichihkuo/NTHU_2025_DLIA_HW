{
 "cells": [
  {
   "cell_type": "markdown",
   "metadata": {
    "id": "Li0bVCTuxc6n"
   },
   "source": [
    "<div align=\"center\">\n",
    "\n",
    "#### Lab 3\n",
    "\n",
    "# National Tsing Hua University\n",
    "\n",
    "#### Spring 2025\n",
    "\n",
    "#### 11320IEEM 513600\n",
    "\n",
    "#### Deep Learning and Industrial Applications\n",
    "    \n",
    "## Lab 3: Anomaly Detection in Industrial Applications\n",
    "\n",
    "</div>"
   ]
  },
  {
   "cell_type": "markdown",
   "metadata": {
    "id": "OlvflhYwCu8Q"
   },
   "source": [
    "### Introduction\n",
    "\n",
    "In today's industrial landscape, the ability to detect anomalies in manufacturing processes and products is critical for maintaining quality, efficiency, and safety. This lab focuses on leveraging deep learning techniques for anomaly detection in various industrial applications, using the MVTEC Anomaly Detection Dataset. By employing ImageNet-pretrained models available in torchvision, students will gain hands-on experience in classfying defects and irregularities across different types of industrial products.\n",
    "\n",
    "Throughout this lab, you'll be involved in the following key activities:\n",
    "- Explore and process the MVTec Anomaly Detection Dataset.\n",
    "- Apply ImageNet-pretrained models from [Torchvision](https://pytorch.org/vision/stable/models.html) to detect anomalies in industrial products.\n",
    "- Evaluate the performance of the models to understand their effectiveness in real-world industrial applications.\n",
    "\n",
    "### Objectives\n",
    "\n",
    "- Understand the principles of anomaly detection in the context of industrial applications.\n",
    "- Learn how to implement and utilize ImageNet-pretrained models for detecting anomalies.\n",
    "- Analyze and interpret the results of the anomaly detection models to assess their practicality in industrial settings.\n",
    "\n",
    "### Dataset\n",
    "\n",
    "The MVTec AD Dataset is a comprehensive collection of high-resolution images across different categories of industrial products, such as bottles, cables, and metal nuts, each with various types of defects. This dataset is pivotal for developing and benchmarking anomaly detection algorithms. You can download our lab's dataset [here](https://drive.google.com/file/d/19600hUOpx0hl78TdpdH0oyy-gGTk_F_o/view?usp=share_link). You can drop downloaded data and drop to colab, or you can put into yor google drive.\n",
    "\n",
    "### References\n",
    "- [MVTec AD Dataset](https://www.kaggle.com/datasets/ipythonx/mvtec-ad/data) for the dataset used in this lab.\n",
    "- [Torchvision Models](https://pytorch.org/vision/stable/models.html) for accessing ImageNet-pretrained models to be used in anomaly detection tasks.\n",
    "- [State-of-the-Art Anomaly Detection on MVTec AD](https://paperswithcode.com/sota/anomaly-detection-on-mvtec-ad) for insights into the latest benchmarks and methodologies in anomaly detection applied to the MVTec AD dataset.\n",
    "- [CVPR 2019: MVTec AD — A Comprehensive Real-World Dataset for Unsupervised Anomaly Detection] for the original paper of MVTec AD dataset."
   ]
  },
  {
   "cell_type": "code",
   "execution_count": null,
   "metadata": {
    "executionInfo": {
     "elapsed": 1,
     "status": "ok",
     "timestamp": 1743835245229,
     "user": {
      "displayName": "郭威志",
      "userId": "08000315470543035166"
     },
     "user_tz": -480
    },
    "id": "GuiEw1L0Cu8Q"
   },
   "outputs": [],
   "source": [
    "import glob\n",
    "import matplotlib.pyplot as plt\n",
    "import random\n",
    "from tqdm.auto import tqdm\n",
    "import cv2\n",
    "import numpy as np"
   ]
  },
  {
   "cell_type": "code",
   "execution_count": null,
   "metadata": {
    "colab": {
     "base_uri": "https://localhost:8080/"
    },
    "executionInfo": {
     "elapsed": 2574,
     "status": "ok",
     "timestamp": 1743835247804,
     "user": {
      "displayName": "郭威志",
      "userId": "08000315470543035166"
     },
     "user_tz": -480
    },
    "id": "qvLTTCGsCu8R",
    "outputId": "5f10d2a7-7486-4d86-cae5-3f120b56b31c"
   },
   "outputs": [],
   "source": [
    "from google.colab import drive\n",
    "\n",
    "drive.mount('/content/drive')\n",
    "#!unzip \"/content/drive/HW3/zipper.zip\" -d \"/content/\""
   ]
  },
  {
   "cell_type": "code",
   "execution_count": null,
   "metadata": {
    "executionInfo": {
     "elapsed": 2,
     "status": "ok",
     "timestamp": 1743835247807,
     "user": {
      "displayName": "郭威志",
      "userId": "08000315470543035166"
     },
     "user_tz": -480
    },
    "id": "yXfjTWKUCu8R"
   },
   "outputs": [],
   "source": [
    "#file_paths = glob.glob('zipper/*/*.png')\n",
    "file_paths = glob.glob('/content/drive/MyDrive/HW3/zipper/**/*.png', recursive=True)\n",
    "file_paths = sorted([path for path in file_paths if path.split('/')[-1] in [f'{i:03}.png' for i in range(10)]])"
   ]
  },
  {
   "cell_type": "code",
   "execution_count": null,
   "metadata": {
    "colab": {
     "base_uri": "https://localhost:8080/",
     "height": 66,
     "referenced_widgets": [
      "fd128c996aa644eab9ff529e7d2e3adb",
      "a7e09fcaa7e3410f84f5f46e1bd8c396",
      "cf0987eb7e464b77a2a616a3d0c8efea",
      "dc9ac40c9d544e5d966761d7d82f5686",
      "13c525120b8848e9887f5e69d1da8af5",
      "426bb5b62a6c48dcbfccf7879b3a700f",
      "d2601b9be7254849a219567dbec102cb",
      "ffc0d1b52d5a4c7e81cdeb05961f5b52",
      "418dd3b413784a8b9f7480d7f8d0b9c9",
      "880239bf65364c948cba459573b47335",
      "8c013047d3194fed9edbcf1d86def94d"
     ]
    },
    "executionInfo": {
     "elapsed": 3298,
     "status": "ok",
     "timestamp": 1743835251107,
     "user": {
      "displayName": "郭威志",
      "userId": "08000315470543035166"
     },
     "user_tz": -480
    },
    "id": "3GiOZBRJCu8S",
    "outputId": "05d93dd5-20ba-478e-9bc0-ed8eea70f323"
   },
   "outputs": [],
   "source": [
    "all_data = []\n",
    "\n",
    "for img in tqdm(file_paths):\n",
    "    img = cv2.imread(img)\n",
    "    img = img[..., ::-1]\n",
    "    all_data.append(img)\n",
    "\n",
    "all_data = np.stack(all_data)\n",
    "print(all_data.shape)"
   ]
  },
  {
   "cell_type": "code",
   "execution_count": null,
   "metadata": {
    "colab": {
     "base_uri": "https://localhost:8080/",
     "height": 353
    },
    "executionInfo": {
     "elapsed": 659,
     "status": "ok",
     "timestamp": 1743835251767,
     "user": {
      "displayName": "郭威志",
      "userId": "08000315470543035166"
     },
     "user_tz": -480
    },
    "id": "ii8LH8s4Cu8S",
    "outputId": "53860479-67a3-417c-9ab8-9306ff1ffecd"
   },
   "outputs": [],
   "source": [
    "import matplotlib.pyplot as plt\n",
    "import numpy as np\n",
    "\n",
    "classes = sorted(set([path.split('/')[1] for path in file_paths]))\n",
    "print(f'Classes: {classes}')\n",
    "\n",
    "images_per_class = len(all_data) // len(classes)\n",
    "fig, axs = plt.subplots(len(classes), 2, figsize=(6, 4 * len(classes)))\n",
    "\n",
    "# 確保axs一定是二維陣列\n",
    "if len(classes) == 1:\n",
    "    axs = axs.reshape(1, -1)\n",
    "\n",
    "for i, class_name in enumerate(classes):\n",
    "    index = i * images_per_class\n",
    "    for j in range(2):\n",
    "        axs[i, j].set_title(f'{i}. {class_name}')\n",
    "        axs[i, j].imshow(all_data[index + j])\n",
    "        axs[i, j].axis('off')\n",
    "\n",
    "plt.tight_layout()\n",
    "plt.show()"
   ]
  },
  {
   "cell_type": "markdown",
   "metadata": {
    "id": "w-1PsC--M7pT"
   },
   "source": [
    "## A. Data Loading and Preprocessing"
   ]
  },
  {
   "cell_type": "code",
   "execution_count": null,
   "metadata": {
    "colab": {
     "base_uri": "https://localhost:8080/"
    },
    "executionInfo": {
     "elapsed": 33,
     "status": "ok",
     "timestamp": 1743835251771,
     "user": {
      "displayName": "郭威志",
      "userId": "08000315470543035166"
     },
     "user_tz": -480
    },
    "id": "nGFI8GMpCu8S",
    "outputId": "63da0bad-2dfe-42f7-c404-99d245fc07c0"
   },
   "outputs": [],
   "source": [
    "import torch\n",
    "from torch.utils.data import DataLoader, TensorDataset, random_split\n",
    "import numpy as np\n",
    "\n",
    "num_classes = 8\n",
    "images_per_class = 10\n",
    "train_images_per_class = int(images_per_class * 0.8)\n",
    "val_images_per_class = int(images_per_class * 0.2)\n",
    "\n",
    "x_train = []\n",
    "x_val = []\n",
    "\n",
    "for i in range(num_classes):\n",
    "    start_index = i * images_per_class\n",
    "    x_train.extend(all_data[start_index:start_index + train_images_per_class])\n",
    "    x_val.extend(all_data[start_index + train_images_per_class:start_index + images_per_class])\n",
    "\n",
    "# The shape changes from (batch_size, height, width, channels) to (batch_size, channels, height, width)\n",
    "x_train = np.transpose(np.array(x_train), (0, 3, 1, 2))\n",
    "x_val = np.transpose(np.array(x_val), (0, 3, 1, 2))\n",
    "\n",
    "y_train = np.concatenate([np.full(train_images_per_class, i) for i in range(num_classes)])\n",
    "y_val = np.concatenate([np.full(val_images_per_class, i) for i in range(num_classes)])\n",
    "\n",
    "print(f'Shape of x_train: {x_train.shape}')\n",
    "print(f'Shape of x_val: {x_val.shape}')\n",
    "print(f'Shape of y_train: {y_train.shape}')\n",
    "print(f'Shape of y_val: {y_val.shape}')"
   ]
  },
  {
   "cell_type": "code",
   "execution_count": null,
   "metadata": {
    "executionInfo": {
     "elapsed": 2,
     "status": "ok",
     "timestamp": 1743835251773,
     "user": {
      "displayName": "郭威志",
      "userId": "08000315470543035166"
     },
     "user_tz": -480
    },
    "id": "h-CnfsmbCu8T"
   },
   "outputs": [],
   "source": [
    "from torchvision import datasets, transforms\n",
    "from torch.utils.data import DataLoader, Dataset\n",
    "from PIL import Image\n",
    "\n",
    "train_transforms = transforms.Compose(\n",
    "    [\n",
    "        transforms.Resize((32, 32)),\n",
    "        transforms.AutoAugment(),\n",
    "        transforms.RandomHorizontalFlip(),\n",
    "        transforms.ToTensor(),\n",
    "    ]\n",
    ")\n",
    "\n",
    "val_transforms = transforms.Compose(\n",
    "    [\n",
    "        transforms.Resize((32, 32)),\n",
    "        transforms.ToTensor(),\n",
    "    ]\n",
    ")\n",
    "\n",
    "class MyDataset(Dataset):\n",
    "    def __init__(self, x, y, transform=None):\n",
    "        self.x = x\n",
    "        self.y = torch.from_numpy(y).long()\n",
    "        self.transform = transform\n",
    "\n",
    "    def __len__(self):\n",
    "        return len(self.x)\n",
    "\n",
    "    def __getitem__(self, idx):\n",
    "        new_x = np.transpose(self.x[idx], (1, 2, 0))\n",
    "        return self.transform(Image.fromarray(new_x)), self.y[idx]"
   ]
  },
  {
   "cell_type": "code",
   "execution_count": null,
   "metadata": {
    "executionInfo": {
     "elapsed": 1,
     "status": "ok",
     "timestamp": 1743835251775,
     "user": {
      "displayName": "郭威志",
      "userId": "08000315470543035166"
     },
     "user_tz": -480
    },
    "id": "53ZVFFacCu8T"
   },
   "outputs": [],
   "source": [
    "batch_size = 32\n",
    "\n",
    "train_dataset = MyDataset(x_train, y_train, train_transforms)\n",
    "val_dataset = MyDataset(x_val, y_val, val_transforms)\n",
    "\n",
    "train_loader = DataLoader(dataset=train_dataset, batch_size=batch_size, shuffle=True, num_workers=2, pin_memory=True, persistent_workers=True)\n",
    "val_loader = DataLoader(dataset=val_dataset, batch_size=batch_size, shuffle=False, num_workers=1, pin_memory=True, persistent_workers=True)"
   ]
  },
  {
   "cell_type": "markdown",
   "metadata": {
    "id": "oaLGtT28xc6s"
   },
   "source": [
    "## B. Defining Neural Networks"
   ]
  },
  {
   "cell_type": "code",
   "execution_count": null,
   "metadata": {
    "colab": {
     "base_uri": "https://localhost:8080/"
    },
    "executionInfo": {
     "elapsed": 304,
     "status": "ok",
     "timestamp": 1743835252080,
     "user": {
      "displayName": "郭威志",
      "userId": "08000315470543035166"
     },
     "user_tz": -480
    },
    "id": "oDX8iDKJCu8U",
    "outputId": "2104938d-6289-4f59-ae19-9e35bcfd4f80"
   },
   "outputs": [],
   "source": [
    "import torch.nn as nn\n",
    "import torch.nn.functional as F\n",
    "from torchvision import models\n",
    "\n",
    "model = models.resnet18(weights='IMAGENET1K_V1')\n",
    "\n",
    "# fine-tune後半段參數，凍結前半段參數\n",
    "ct = 0\n",
    "for child in model.children():\n",
    "    ct += 1\n",
    "    if ct < 7:  # 凍結前6層\n",
    "        for param in child.parameters():\n",
    "            param.requires_grad = False\n",
    "\n",
    "# 修改最後分類層\n",
    "model.fc = nn.Linear(model.fc.in_features, 8)\n",
    "print(model)"
   ]
  },
  {
   "cell_type": "markdown",
   "metadata": {
    "id": "nvLTU-IfZLqn"
   },
   "source": [
    "## C. Training the Neural Network"
   ]
  },
  {
   "cell_type": "code",
   "execution_count": null,
   "metadata": {
    "colab": {
     "base_uri": "https://localhost:8080/",
     "height": 937,
     "referenced_widgets": [
      "ae3f4455814e449a973c1b5924f3bd6f",
      "56cab5871c12483dbdb78ba6f39aa1e3",
      "d29c7bbf183548938161c67a4d1b51e5",
      "d1ba3e356d514ebca7c681586792c157",
      "1b9e8c56ea734cd0bcbddf83445ae1d1",
      "cf00f5d12ad54f47aa9305f0c7d8e5d4",
      "98c16c2662d248f18c1a5a051ffe07f8",
      "d8b9626461ae4a87b977b43b44fcb24b",
      "d5952ea50ce44502ab12582c45060dc6",
      "f5187f86ea1240ecb0909639fb6423da",
      "18027dd3da5449a690d3a27d4c850948"
     ]
    },
    "executionInfo": {
     "elapsed": 23846,
     "status": "ok",
     "timestamp": 1743835275926,
     "user": {
      "displayName": "郭威志",
      "userId": "08000315470543035166"
     },
     "user_tz": -480
    },
    "id": "45ol4lpVxc6t",
    "outputId": "b1f67cf8-34a3-4ae2-e10e-fcf857070ad1"
   },
   "outputs": [],
   "source": [
    "import torch.optim as optim\n",
    "from torch.optim.lr_scheduler import CosineAnnealingLR, StepLR\n",
    "from tqdm.auto import tqdm\n",
    "\n",
    "train_losses = []\n",
    "val_losses = []\n",
    "train_accuracies = []\n",
    "val_accuracies = []\n",
    "\n",
    "epochs = 50\n",
    "model = model.cuda()\n",
    "\n",
    "best_val_loss = float('inf')\n",
    "best_val_acc = -1\n",
    "\n",
    "criterion = nn.CrossEntropyLoss()\n",
    "optimizer = optim.Adam(model.parameters(), lr=1e-3)\n",
    "lr_scheduler = CosineAnnealingLR(optimizer, T_max=len(train_loader)*epochs, eta_min=0)\n",
    "\n",
    "for epoch in tqdm(range(epochs)):\n",
    "    # Training\n",
    "    model.train()\n",
    "    total_loss = 0.0\n",
    "    train_correct = 0\n",
    "    total_train_samples = 0\n",
    "\n",
    "    for images, labels in train_loader:\n",
    "        images = images.cuda()\n",
    "        images = (images) / 255.\n",
    "        labels = labels.cuda()\n",
    "        optimizer.zero_grad()\n",
    "        outputs = model(images)\n",
    "\n",
    "        labels = labels.long()\n",
    "\n",
    "        loss = criterion(outputs, labels)\n",
    "        loss.backward()\n",
    "        optimizer.step()\n",
    "        total_loss += loss.item()\n",
    "\n",
    "        train_predicted = outputs.argmax(-1)\n",
    "        train_correct += (train_predicted == labels).sum().item()\n",
    "        total_train_samples += labels.size(0)\n",
    "\n",
    "    avg_train_loss = total_loss / len(train_loader)\n",
    "    train_accuracy = 100. * train_correct / total_train_samples\n",
    "\n",
    "    # Validation\n",
    "    model.eval()\n",
    "    total_val_loss = 0.0\n",
    "    correct = 0\n",
    "    total = 0\n",
    "    with torch.no_grad():\n",
    "        for images, labels in val_loader:\n",
    "            images = images.cuda()\n",
    "            images = (images) / 255.\n",
    "            labels = labels.cuda()\n",
    "            outputs = model(images)\n",
    "\n",
    "            labels = labels.long()\n",
    "\n",
    "            loss = criterion(outputs, labels)\n",
    "            total_val_loss += loss.item()\n",
    "\n",
    "            predicted = outputs.argmax(-1)\n",
    "            correct += (predicted == labels).sum().item()\n",
    "            total += labels.size(0)\n",
    "\n",
    "    avg_val_loss = total_val_loss / len(val_loader)\n",
    "    val_accuracy = 100. * correct / total\n",
    "\n",
    "    # Learning rate update\n",
    "    lr_scheduler.step()\n",
    "\n",
    "    # Checkpoint\n",
    "    if avg_val_loss < best_val_loss:\n",
    "        best_val_loss = avg_val_loss\n",
    "\n",
    "    if val_accuracy > best_val_acc:\n",
    "        best_val_acc = val_accuracy\n",
    "        torch.save(model.state_dict(), 'model_classification.pth')\n",
    "\n",
    "    print(f'Epoch {epoch+1}/{epochs}, Train loss: {avg_train_loss:.4f}, Train acc: {train_accuracy:.4f}%, Val loss: {avg_val_loss:.4f}, Val acc: {val_accuracy:.4f}%, Best Val loss: {best_val_loss:.4f} Best Val acc: {best_val_acc:.2f}%')\n",
    "\n",
    "    # Store performance\n",
    "    train_losses.append(avg_train_loss)\n",
    "    train_accuracies.append(train_accuracy)\n",
    "    val_losses.append(avg_val_loss)\n",
    "    val_accuracies.append(val_accuracy)"
   ]
  },
  {
   "cell_type": "markdown",
   "metadata": {
    "id": "pjmYxAJnxc6t"
   },
   "source": [
    "### Visualizing model performance"
   ]
  },
  {
   "cell_type": "code",
   "execution_count": null,
   "metadata": {
    "colab": {
     "base_uri": "https://localhost:8080/",
     "height": 264
    },
    "executionInfo": {
     "elapsed": 286,
     "status": "ok",
     "timestamp": 1743835276213,
     "user": {
      "displayName": "郭威志",
      "userId": "08000315470543035166"
     },
     "user_tz": -480
    },
    "id": "pHpS0Q7vxc6t",
    "outputId": "b05715f7-5f4d-4af4-ba99-75fc404d910c"
   },
   "outputs": [],
   "source": [
    "import matplotlib.pyplot as plt\n",
    "\n",
    "fig, ax = plt.subplots(1, 2, figsize=(15, 5))\n",
    "\n",
    "# Plotting training and validation accuracy\n",
    "ax[0].plot(train_accuracies)\n",
    "ax[0].plot(val_accuracies)\n",
    "ax[0].set_title('Model Accuracy')\n",
    "ax[0].set_xlabel('Epochs')\n",
    "ax[0].set_ylabel('Accuracy')\n",
    "ax[0].legend(['Train', 'Val'])\n",
    "\n",
    "# Plotting training and validation loss\n",
    "ax[1].plot(train_losses)\n",
    "ax[1].plot(val_losses)\n",
    "ax[1].set_title('Model Loss')\n",
    "ax[1].set_xlabel('Epochs')\n",
    "ax[1].set_ylabel('Loss')\n",
    "ax[1].legend(['Train', 'Val'])\n",
    "\n",
    "plt.show()"
   ]
  },
  {
   "cell_type": "markdown",
   "metadata": {
    "id": "WVDWBwv6Cu8V"
   },
   "source": [
    "## D. Evaluating Your Trained Model"
   ]
  },
  {
   "cell_type": "markdown",
   "metadata": {
    "id": "uEztHBDjCu8V"
   },
   "source": [
    "### Load Trained Model and Evaluate"
   ]
  },
  {
   "cell_type": "code",
   "execution_count": null,
   "metadata": {
    "colab": {
     "base_uri": "https://localhost:8080/"
    },
    "executionInfo": {
     "elapsed": 144,
     "status": "ok",
     "timestamp": 1743835276358,
     "user": {
      "displayName": "郭威志",
      "userId": "08000315470543035166"
     },
     "user_tz": -480
    },
    "id": "2DA1qHXpCu8V",
    "outputId": "f1ccbe1b-fa4e-48a2-d341-33e19c0567bf"
   },
   "outputs": [],
   "source": [
    "# Load the trained weights\n",
    "model.load_state_dict(torch.load('model_classification.pth'))\n",
    "\n",
    "# Set the model to evaluation mode\n",
    "model.eval()\n",
    "\n",
    "test_correct = 0\n",
    "test_total = 0\n",
    "\n",
    "with torch.no_grad():\n",
    "    for images, labels in val_loader:\n",
    "\n",
    "        images = images.cuda()\n",
    "        images = (images) / 255.\n",
    "\n",
    "        labels = labels.cuda()\n",
    "        labels = labels.long()\n",
    "\n",
    "        outputs = model(images)\n",
    "\n",
    "        predicted = outputs.argmax(-1)\n",
    "        print(predicted)\n",
    "        print(labels)\n",
    "        test_correct += (predicted == labels).sum().item()\n",
    "        test_total += labels.size(0)\n",
    "\n",
    "print(f'Test accuracy is {100. * test_correct / test_total}%')"
   ]
  },
  {
   "cell_type": "code",
   "execution_count": null,
   "metadata": {
    "executionInfo": {
     "elapsed": 1,
     "status": "ok",
     "timestamp": 1743835276360,
     "user": {
      "displayName": "郭威志",
      "userId": "08000315470543035166"
     },
     "user_tz": -480
    },
    "id": "jG6DuAgcEgxj"
   },
   "outputs": [],
   "source": []
  }
 ],
 "metadata": {
  "accelerator": "GPU",
  "colab": {
   "gpuType": "T4",
   "provenance": []
  },
  "kernelspec": {
   "display_name": "Python 3 (ipykernel)",
   "language": "python",
   "name": "python3"
  },
  "language_info": {
   "codemirror_mode": {
    "name": "ipython",
    "version": 3
   },
   "file_extension": ".py",
   "mimetype": "text/x-python",
   "name": "python",
   "nbconvert_exporter": "python",
   "pygments_lexer": "ipython3",
   "version": "3.8.13"
  }
 },
 "nbformat": 4,
 "nbformat_minor": 0
}
