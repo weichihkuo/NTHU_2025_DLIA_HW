{
 "cells": [
  {
   "cell_type": "markdown",
   "id": "0",
   "metadata": {
    "id": "609dcb62-c2f8-4c6d-9c89-63dc0148a87c"
   },
   "source": [
    "<div align=\"center\">\n",
    "\n",
    "### Lab 4\n",
    "\n",
    "# National Tsing Hua University\n",
    "\n",
    "#### Spring 2025\n",
    "\n",
    "#### 11320IEEM 513600\n",
    "\n",
    "#### Deep Learning and Industrial Applications\n",
    "    \n",
    "## Lab 4: Predicting Stock Price with Deep Learning\n",
    "\n",
    "</div>"
   ]
  },
  {
   "cell_type": "markdown",
   "id": "1",
   "metadata": {
    "id": "061c22d2-eec4-40f4-866b-ccaa2d9a2963",
    "jp-MarkdownHeadingCollapsed": true,
    "tags": []
   },
   "source": [
    "### Introduction\n",
    "\n",
    "In this lab, we explore the application of time-series datasets using Long Short-Term Memory (LSTM) networks, a type of recurrent neural network, to predict stock prices. Specifically, we will use historical price data from Nvidia to forecast the stock's price for the next day based on the prices of the previous N days. This approach is particularly relevant given the volatile nature of stock markets and the increasing reliance on automated trading systems.\n",
    "\n",
    "### Objectives\n",
    "\n",
    "- To understand the fundamentals of LSTM networks and their application in time-series forecasting.\n",
    "- To develop a predictive model that can accurately forecast Nvidia's stock price for the next day using historical data.\n",
    "\n",
    "### Dataset\n",
    "\n",
    "The dataset for this lab is from the \"Huge Stock Market Dataset\" available on Kaggle. This dataset includes daily prices and volumes for all US stocks and ETFs, with a specific focus on Nvidia (NVDA). The dataset features include:\n",
    "\n",
    "- **Date**: The recorded data points.\n",
    "- **Open**: The price at which the stock first traded upon the opening of an exchange on a given trading day.\n",
    "- **High**: The highest price at which the stock traded during the trading day.\n",
    "- **Low**: The lowest price at which the stock traded during the trading day.\n",
    "- **Close**: The price of the stock at closing time.\n",
    "- **Volume**: The number of shares or contracts traded in a security or an entire market during a given period.\n",
    "- **OpenInt**: The total number of outstanding derivative contracts, like options or futures. [More details here](https://www.kaggle.com/datasets/borismarjanovic/price-volume-data-for-all-us-stocks-etfs/discussion/121096)\n",
    "\n",
    "### References\n",
    "\n",
    "- [Huge Stock Market Dataset](https://www.kaggle.com/datasets/borismarjanovic/price-volume-data-for-all-us-stocks-etfs) for the dataset used in this lab.\n"
   ]
  },
  {
   "cell_type": "markdown",
   "id": "2",
   "metadata": {
    "id": "ad594fc8-4989-40f3-b124-4550fe7df386"
   },
   "source": [
    "## A. Checking and Preprocessing"
   ]
  },
  {
   "cell_type": "code",
   "execution_count": null,
   "id": "3",
   "metadata": {
    "colab": {
     "base_uri": "https://localhost:8080/"
    },
    "id": "QN9wm55dAwyz",
    "outputId": "b8616746-f7ad-4564-dd99-a5ed20a37163"
   },
   "outputs": [],
   "source": [
    "from google.colab import drive\n",
    "drive.mount('/content/drive')"
   ]
  },
  {
   "cell_type": "code",
   "execution_count": null,
   "id": "4",
   "metadata": {
    "colab": {
     "base_uri": "https://localhost:8080/",
     "height": 423
    },
    "id": "42a3eafd-cbcd-4c56-82cb-83a0bfa2399e",
    "outputId": "7ed1b8da-2676-46f1-bf9c-2e5e2b55bc57"
   },
   "outputs": [],
   "source": [
    "import pandas as pd\n",
    "\n",
    "df = pd.read_csv('/content/drive/MyDrive/HW4/nvda.us.txt')\n",
    "df"
   ]
  },
  {
   "cell_type": "code",
   "execution_count": null,
   "id": "5",
   "metadata": {
    "colab": {
     "base_uri": "https://localhost:8080/",
     "height": 465
    },
    "id": "97f3e5ca-600c-42f6-88d2-8e057ca2c612",
    "outputId": "fd88b126-5a10-49e8-a20c-eb29a65aa812"
   },
   "outputs": [],
   "source": [
    "plot = df.plot('Date', 'High', figsize=(15, 5))"
   ]
  },
  {
   "cell_type": "code",
   "execution_count": null,
   "id": "6",
   "metadata": {
    "colab": {
     "base_uri": "https://localhost:8080/"
    },
    "id": "34241797-60f0-4818-a44b-f5379948d621",
    "outputId": "a3817d08-f184-4727-ea00-4d643f3cd964"
   },
   "outputs": [],
   "source": [
    "df.columns"
   ]
  },
  {
   "cell_type": "code",
   "execution_count": null,
   "id": "7",
   "metadata": {
    "colab": {
     "base_uri": "https://localhost:8080/"
    },
    "id": "026585db-a6d8-4062-85de-e3a7eaebed72",
    "outputId": "29abd7e7-7322-48f7-f258-eeaec9a15fc1"
   },
   "outputs": [],
   "source": [
    "df.info()"
   ]
  },
  {
   "cell_type": "code",
   "execution_count": null,
   "id": "8",
   "metadata": {
    "colab": {
     "base_uri": "https://localhost:8080/",
     "height": 303
    },
    "id": "69031e6d-0fb5-49d9-b723-a0d1fee08c3c",
    "outputId": "2e1bbf89-e28a-4ddd-9e21-b36654161e49"
   },
   "outputs": [],
   "source": [
    "# checking for null values\n",
    "df.isnull().sum()"
   ]
  },
  {
   "cell_type": "code",
   "execution_count": null,
   "id": "9",
   "metadata": {
    "id": "cb3090f8-2cfa-4f56-8aa5-cf954bb19932"
   },
   "outputs": [],
   "source": [
    "df = df.dropna()"
   ]
  },
  {
   "cell_type": "code",
   "execution_count": null,
   "id": "10",
   "metadata": {
    "colab": {
     "base_uri": "https://localhost:8080/"
    },
    "id": "38aadbee-d68f-4ae0-b842-b40800b0cac9",
    "outputId": "7d5f8c0b-283d-4a4d-d5d4-f7b3a998541d"
   },
   "outputs": [],
   "source": [
    "df.shape"
   ]
  },
  {
   "cell_type": "code",
   "execution_count": null,
   "id": "11",
   "metadata": {
    "colab": {
     "base_uri": "https://localhost:8080/",
     "height": 300
    },
    "id": "051108c6-7011-4187-9e36-bd2944a019ca",
    "outputId": "554bbe71-8ba6-475f-ef1e-580a1aa9ed0e"
   },
   "outputs": [],
   "source": [
    "df.describe()"
   ]
  },
  {
   "cell_type": "markdown",
   "id": "12",
   "metadata": {
    "id": "8ce7a0c5-76d6-4863-ba61-0544a220962a"
   },
   "source": [
    "#### Converting the DataFrame to a NumPy Array"
   ]
  },
  {
   "cell_type": "code",
   "execution_count": null,
   "id": "13",
   "metadata": {
    "id": "5735baad-2db8-4306-aa4c-7788d2b49621"
   },
   "outputs": [],
   "source": [
    "def create_sequences(input_data, output_data, window_size, step):\n",
    "    sequences = []\n",
    "    labels = []\n",
    "    for i in range(0, len(input_data) - window_size, step):\n",
    "        sequences.append(input_data[i:(i + window_size)])\n",
    "        labels.append(output_data[i + window_size])\n",
    "    return np.array(sequences), np.array(labels)"
   ]
  },
  {
   "cell_type": "code",
   "execution_count": null,
   "id": "14",
   "metadata": {
    "colab": {
     "base_uri": "https://localhost:8080/"
    },
    "id": "29b8e189-7f39-435a-8038-39098b147325",
    "outputId": "4d275583-4c16-4a70-ae5b-9717d61d25df"
   },
   "outputs": [],
   "source": [
    "import numpy as np\n",
    "import torch\n",
    "from torch.utils.data import DataLoader, TensorDataset\n",
    "import matplotlib.pyplot as plt\n",
    "\n",
    "# Select features\n",
    "features = df[['Open', 'High', 'Low', 'Close', 'Volume']]\n",
    "labels = df['High'].shift(-1)  # Next day's high price as label\n",
    "\n",
    "X, y = create_sequences(features, labels, window_size=15, step=10)\n",
    "\n",
    "print(f'Shape of data X: {X.shape}')\n",
    "print(f'Shape of data y: {y.shape}')\n",
    "\n",
    "# split the hold-out tests\n",
    "ind = np.linspace(0, len(X)-1, num=int(len(X)*0.1), dtype=int) # 10% hold-out\n",
    "x_test = X[ind]\n",
    "y_test = y[ind]\n",
    "all_ind = np.arange(len(X))\n",
    "remains_ind = np.delete(all_ind, ind)\n",
    "\n",
    "X = X[remains_ind]\n",
    "y = y[remains_ind]\n",
    "\n",
    "# shuffle dataset\n",
    "ind = np.random.permutation(len(X))\n",
    "X = X[ind]\n",
    "y = y[ind]\n",
    "split_point = int(X.shape[0]*0.8)\n",
    "\n",
    "x_train = X[:split_point]\n",
    "y_train = y[:split_point]\n",
    "x_val = X[split_point:]\n",
    "y_val = y[split_point:]\n",
    "\n",
    "print(f'Shape of data x_train: {x_train.shape}')\n",
    "print(f'Shape of data y_train: {y_train.shape}')\n",
    "print(f'Shape of data x_val: {x_val.shape}')\n",
    "print(f'Shape of data y_val: {y_val.shape}')\n",
    "print(f'Shape of data x_test: {x_test.shape}')\n",
    "print(f'Shape of data y_test: {y_test.shape}')\n",
    "\n",
    "# Convert to PyTorch tensors\n",
    "x_train = torch.from_numpy(x_train).float()\n",
    "y_train = torch.from_numpy(y_train).float()\n",
    "\n",
    "x_val = torch.from_numpy(x_val).float()\n",
    "y_val = torch.from_numpy(y_val).float()\n",
    "\n",
    "x_test = torch.from_numpy(x_test).float()\n",
    "y_test = torch.from_numpy(y_test).float()\n",
    "\n",
    "batch_size = 32\n",
    "\n",
    "# Create datasets\n",
    "train_dataset = TensorDataset(x_train, y_train)\n",
    "val_dataset = TensorDataset(x_val, y_val)\n",
    "test_dataset = TensorDataset(x_test, y_test)\n",
    "\n",
    "# Create dataloaders\n",
    "train_loader = DataLoader(train_dataset, batch_size=batch_size, shuffle=True)\n",
    "val_loader = DataLoader(val_dataset, batch_size=batch_size, shuffle=False)\n",
    "test_loader = DataLoader(test_dataset, batch_size=batch_size, shuffle=False)\n",
    "\n",
    "print(f'Number of samples in training and validation are {len(train_loader.dataset)} and {len(val_loader.dataset)}.')"
   ]
  },
  {
   "cell_type": "markdown",
   "id": "15",
   "metadata": {
    "id": "8ffc26b9-6044-41e9-93e2-7dc6250dbd27"
   },
   "source": [
    "## B. Defining Neural Networks"
   ]
  },
  {
   "cell_type": "code",
   "execution_count": null,
   "id": "16",
   "metadata": {
    "id": "77975746-a7a7-4676-9527-57674cd98c0f"
   },
   "outputs": [],
   "source": [
    "import torch.nn as nn\n",
    "\n",
    "class LSTMModel(nn.Module):\n",
    "    def __init__(self, input_dim, hidden_dim, num_layers, output_dim):\n",
    "        super().__init__()\n",
    "        self.hidden_dim = hidden_dim\n",
    "        self.num_layers = num_layers\n",
    "        self.lstm = nn.LSTM(input_dim, hidden_dim, num_layers, batch_first=True)\n",
    "        self.fc = nn.Linear(hidden_dim, output_dim)\n",
    "\n",
    "    def forward(self, x):\n",
    "        out, _ = self.lstm(x)\n",
    "        out = self.fc(out[:, -1, :])\n",
    "        return out"
   ]
  },
  {
   "cell_type": "markdown",
   "id": "17",
   "metadata": {
    "id": "cbb8b5b0-0ec0-406c-a42e-048aa00e05aa"
   },
   "source": [
    "## C. Training the Neural Network"
   ]
  },
  {
   "cell_type": "code",
   "execution_count": null,
   "id": "18",
   "metadata": {
    "colab": {
     "base_uri": "https://localhost:8080/"
    },
    "id": "3602ae7d-4034-4c49-b221-0c12a5824b18",
    "outputId": "d8a1d1ee-8939-4326-d97c-3158e4360997"
   },
   "outputs": [],
   "source": [
    "# Check your GPU status.\n",
    "!nvidia-smi"
   ]
  },
  {
   "cell_type": "code",
   "execution_count": null,
   "id": "19",
   "metadata": {
    "colab": {
     "base_uri": "https://localhost:8080/",
     "height": 1000,
     "referenced_widgets": [
      "ab749ca677ea465aa76f089e29d242f6",
      "e384d5252b8b44d58b845809498e8037",
      "f3cf2ad832d64a59bfb89cbcfca86614",
      "b296945366124ed7820c655bfd444b8d",
      "3c27496d217a4edd8545f935cdae260d",
      "04d5543ae03146038e41cd0eede08450",
      "a2c3c0232e94489b939bc114b5229352",
      "d1768a02f59141a382324c9f25f5f399",
      "d484bc154d884a4e8513f28fd97fbf6f",
      "82939a3851f04f79b064ea0d84e15ec3",
      "a7525091ac97466881c33ce500bb947e"
     ]
    },
    "id": "f73a5c35-c15d-49bb-8a33-a7f017159499",
    "outputId": "f4dae318-01fe-496a-94e5-543e0df19fee"
   },
   "outputs": [],
   "source": [
    "import torch.optim as optim\n",
    "from torch.optim.lr_scheduler import CosineAnnealingLR\n",
    "from tqdm.auto import tqdm\n",
    "\n",
    "train_losses = []\n",
    "val_losses = []\n",
    "\n",
    "epochs = 100\n",
    "\n",
    "model = LSTMModel(input_dim=5, hidden_dim=500, num_layers=2, output_dim=1).cpu()\n",
    "print(model)\n",
    "\n",
    "best_val_loss = float('inf')\n",
    "\n",
    "criterion = nn.MSELoss()\n",
    "optimizer = optim.Adam(model.parameters(), lr=1e-3)\n",
    "lr_scheduler = CosineAnnealingLR(optimizer, T_max=epochs, eta_min=0)\n",
    "\n",
    "for epoch in tqdm(range(epochs)):\n",
    "    # Training\n",
    "    model.train()\n",
    "    total_loss = 0.0\n",
    "\n",
    "    for features, labels in train_loader:\n",
    "        features = features.cpu()\n",
    "        labels = labels.cpu()\n",
    "        outputs = model(features).squeeze(-1)\n",
    "        loss = criterion(outputs, labels)\n",
    "        total_loss += loss.item()\n",
    "\n",
    "        optimizer.zero_grad()\n",
    "        loss.backward()\n",
    "        optimizer.step()\n",
    "\n",
    "    # Learning rate update\n",
    "    lr_scheduler.step()\n",
    "\n",
    "    avg_train_loss = total_loss / len(train_loader)\n",
    "\n",
    "    # Validation\n",
    "    model.eval()\n",
    "    total_val_loss = 0.0\n",
    "\n",
    "    with torch.no_grad():\n",
    "        for features, labels in val_loader:\n",
    "            features = features.cpu()\n",
    "            labels = labels.cpu()\n",
    "            outputs = model(features).squeeze(-1)\n",
    "            loss = criterion(outputs, labels)\n",
    "            total_val_loss += loss.item()\n",
    "\n",
    "    avg_val_loss = total_val_loss / len(val_loader)\n",
    "\n",
    "    # Checkpoint\n",
    "    if avg_val_loss < best_val_loss:\n",
    "        best_val_loss = avg_val_loss\n",
    "        torch.save(model.state_dict(), 'best_model.pth')\n",
    "\n",
    "    print(f'Epoch {epoch+1}/{epochs}, Train loss: {avg_train_loss:.4f}, Val loss: {avg_val_loss:.4f}, Best Val loss: {best_val_loss:.4f}')\n",
    "\n",
    "    # Store performance\n",
    "    train_losses.append(avg_train_loss)\n",
    "    val_losses.append(avg_val_loss)"
   ]
  },
  {
   "cell_type": "markdown",
   "id": "20",
   "metadata": {
    "id": "a7984c6e-6652-4160-b572-07d48bc93a3f"
   },
   "source": [
    "#### Visualizing the model performance"
   ]
  },
  {
   "cell_type": "code",
   "execution_count": null,
   "id": "21",
   "metadata": {
    "colab": {
     "base_uri": "https://localhost:8080/",
     "height": 469
    },
    "id": "5559d850-1fb5-4b04-b6ca-60c5b309f34e",
    "outputId": "feadfb00-35b7-473e-cbf5-3b035fc6cf30"
   },
   "outputs": [],
   "source": [
    "import matplotlib.pyplot as plt\n",
    "\n",
    "plt.figure(figsize=(10, 5))\n",
    "plt.plot(train_losses)\n",
    "plt.plot(val_losses)\n",
    "plt.xlabel('Epochs')\n",
    "plt.ylabel('Loss')\n",
    "plt.legend(['Train', 'Val'])\n",
    "\n",
    "plt.show()"
   ]
  },
  {
   "cell_type": "markdown",
   "id": "22",
   "metadata": {
    "id": "89c7e51b-8ab6-4aa2-877d-39b6daf55c20"
   },
   "source": [
    "## D. Evaluating Your Trained Model"
   ]
  },
  {
   "cell_type": "code",
   "execution_count": null,
   "id": "23",
   "metadata": {
    "colab": {
     "base_uri": "https://localhost:8080/"
    },
    "id": "4bcf8580-42ee-4ee7-ad15-9f080cc57a33",
    "outputId": "8373a26e-17ac-4f73-d3b0-fcb5f6cb39c3"
   },
   "outputs": [],
   "source": [
    "# Load the trained weights\n",
    "model.load_state_dict(torch.load('best_model.pth'))\n",
    "\n",
    "# Set the model to evaluation mode\n",
    "model.eval()\n",
    "\n",
    "test_correct = 0\n",
    "test_total = 0\n",
    "\n",
    "pred_value = []\n",
    "actual_value = []\n",
    "\n",
    "with torch.no_grad():\n",
    "    for features, labels in test_loader:\n",
    "        features = features.cpu()\n",
    "        outputs = model(features).squeeze(-1)\n",
    "        pred_value.append(outputs.cpu())\n",
    "        actual_value.append(labels)\n",
    "\n",
    "pred_value = torch.cat(pred_value)\n",
    "actual_value = torch.cat(actual_value)\n",
    "# === 計算 Test MSE ===\n",
    "import torch.nn as nn\n",
    "criterion = nn.MSELoss()\n",
    "test_mse = criterion(pred_value, actual_value).item()\n",
    "print(f'Test MSE = {test_mse:.4f}')\n",
    "# ======================="
   ]
  },
  {
   "cell_type": "code",
   "execution_count": null,
   "id": "24",
   "metadata": {
    "colab": {
     "base_uri": "https://localhost:8080/",
     "height": 465
    },
    "id": "dde4e0a5-32be-4db3-95fb-4fad8926ce9b",
    "outputId": "fcac13e7-f722-4a7c-c683-3457a037d55f"
   },
   "outputs": [],
   "source": [
    "plt.figure(figsize=(10, 5))\n",
    "plt.plot(pred_value[:])\n",
    "plt.plot(actual_value[:])\n",
    "plt.xlabel('Day')\n",
    "plt.ylabel('Price')\n",
    "plt.legend(['Pred', 'Actual'])\n",
    "\n",
    "plt.show()"
   ]
  },
  {
   "cell_type": "code",
   "execution_count": null,
   "id": "25",
   "metadata": {
    "colab": {
     "base_uri": "https://localhost:8080/"
    },
    "id": "-DwkPmprGOQ3",
    "outputId": "a8a4633d-9a6f-4263-875f-94c6ab96dd69"
   },
   "outputs": [],
   "source": [
    "from itertools import combinations\n",
    "\n",
    "all_feats = ['Open','High','Low','Close','Volume']\n",
    "results = []\n",
    "\n",
    "# 對所有非空子集跑一遍\n",
    "for r in range(1, len(all_feats)+1):\n",
    "    for subset in combinations(all_feats, r):\n",
    "        # 1) 動態指定特徵\n",
    "        features = df[list(subset)]\n",
    "        labels   = df['High'].shift(-1).fillna(method='ffill')\n",
    "\n",
    "        # 2) 建序列\n",
    "        X, y = create_sequences(features, labels, window_size=10, step=15)\n",
    "\n",
    "        # 3) 原本的 hold‐out / split / DataLoader\n",
    "        ind = np.linspace(0, len(X)-1, num=int(len(X)*0.1), dtype=int)\n",
    "        x_test = X[ind];     y_test = y[ind]\n",
    "        rem    = np.delete(np.arange(len(X)), ind)\n",
    "        Xr, yr = X[rem],      y[rem]\n",
    "        perm   = np.random.permutation(len(Xr))\n",
    "        Xr, yr = Xr[perm],    yr[perm]\n",
    "        split_p = int(len(Xr)*0.8)\n",
    "        x_train, x_val = Xr[:split_p], Xr[split_p:]\n",
    "        y_train, y_val = yr[:split_p], yr[split_p:]\n",
    "        train_loader = DataLoader(TensorDataset(torch.from_numpy(x_train).float(),\n",
    "                                                torch.from_numpy(y_train).float()),\n",
    "                                  batch_size=32, shuffle=True)\n",
    "        test_loader  = DataLoader(TensorDataset(torch.from_numpy(x_test).float(),\n",
    "                                                torch.from_numpy(y_test).float()),\n",
    "                                  batch_size=32, shuffle=False)\n",
    "\n",
    "        # 4) 重新定義並訓練模型（input_dim = len(subset)）\n",
    "        model = LSTMModel(input_dim=len(subset), hidden_dim=500, num_layers=2, output_dim=1)\n",
    "        optimizer = optim.Adam(model.parameters(), lr=1e-3)\n",
    "        for epoch in range(100):\n",
    "            model.train()\n",
    "            for xb, yb in train_loader:\n",
    "                optimizer.zero_grad()\n",
    "                loss = criterion(model(xb).squeeze(-1), yb)\n",
    "                loss.backward()\n",
    "                optimizer.step()\n",
    "\n",
    "        # 5) 計算 Test MSE\n",
    "        model.eval()\n",
    "        total = 0.0\n",
    "        with torch.no_grad():\n",
    "            for xb, yb in test_loader:\n",
    "                total += criterion(model(xb).squeeze(-1), yb).item()\n",
    "        test_mse = total / len(test_loader)\n",
    "\n",
    "        results.append((subset, test_mse))\n",
    "\n",
    "# 印出所有組合的 Test MSE\n",
    "for feats, mse in results:\n",
    "    print(f\"{feats}: Test MSE = {mse:.4f}\")\n"
   ]
  },
  {
   "cell_type": "code",
   "execution_count": null,
   "id": "26",
   "metadata": {
    "colab": {
     "base_uri": "https://localhost:8080/"
    },
    "id": "0aRp9IVSpEsY",
    "outputId": "a7fec1a9-5fdf-4c86-9730-37114fce8a85"
   },
   "outputs": [],
   "source": [
    "import numpy as np\n",
    "import torch\n",
    "from sklearn.preprocessing import StandardScaler\n",
    "from torch.utils.data import TensorDataset, DataLoader\n",
    "\n",
    "# --- 第三題：比較「原始輸入」與「訓練集擬合標準化輸入」對 Test MSE 的影響 ---\n",
    "# 前提：create_sequences, LSTMModel, criterion 都已在 Notebook 中定義\n",
    "\n",
    "# 1) 準備原始特徵與標籤\n",
    "features_np = df[['Open','High','Low','Close']].values\n",
    "labels_np   = df['High'].shift(-1).fillna(method='ffill').values\n",
    "\n",
    "# 2) 建序列 (window_size=10, step=15)\n",
    "X_all, y_all = create_sequences(features_np, labels_np, window_size=10, step=15)\n",
    "\n",
    "# 3) 留出 10% 為測試集\n",
    "n = len(X_all)\n",
    "idx = np.linspace(0, n-1, num=int(n*0.1), dtype=int)\n",
    "X_test, y_test = X_all[idx], y_all[idx]\n",
    "rem = np.delete(np.arange(n), idx)\n",
    "X_rem, y_rem = X_all[rem], y_all[rem]\n",
    "\n",
    "# 4) 對剩餘資料 shuffle 並切 80% train\n",
    "perm = np.random.permutation(len(X_rem))\n",
    "Xr, yr = X_rem[perm], y_rem[perm]\n",
    "split = int(len(Xr)*0.8)\n",
    "X_train, X_val = Xr[:split], Xr[split:]\n",
    "y_train, y_val = yr[:split], yr[split:]\n",
    "\n",
    "# 5) Raw DataLoader\n",
    "train_loader_raw = DataLoader(TensorDataset(torch.from_numpy(X_train).float(),\n",
    "                                            torch.from_numpy(y_train).float()),\n",
    "                              batch_size=32, shuffle=True)\n",
    "test_loader_raw  = DataLoader(TensorDataset(torch.from_numpy(X_test ).float(),\n",
    "                                            torch.from_numpy(y_test ).float()),\n",
    "                              batch_size=32, shuffle=False)\n",
    "\n",
    "# 6) 訓練 Raw 模型\n",
    "model_raw = LSTMModel(input_dim=4, hidden_dim=500, num_layers=2, output_dim=1)\n",
    "opt_raw   = torch.optim.Adam(model_raw.parameters(), lr=1e-3)\n",
    "for _ in range(100):\n",
    "    model_raw.train()\n",
    "    for xb, yb in train_loader_raw:\n",
    "        opt_raw.zero_grad()\n",
    "        loss = criterion(model_raw(xb).squeeze(), yb)\n",
    "        loss.backward()\n",
    "        opt_raw.step()\n",
    "\n",
    "# 7) 計算 Raw Test MSE\n",
    "model_raw.eval()\n",
    "total_raw = 0.0\n",
    "with torch.no_grad():\n",
    "    for xb, yb in test_loader_raw:\n",
    "        total_raw += criterion(model_raw(xb).squeeze(), yb).item()\n",
    "mse_raw = total_raw / len(test_loader_raw)\n",
    "\n",
    "# 8) 在訓練集上擬合 StandardScaler\n",
    "ns, ws, nf = X_train.shape\n",
    "scaler = StandardScaler()\n",
    "scaler.fit(X_train.reshape(-1, nf))\n",
    "\n",
    "# 9) 標準化 train 與 test\n",
    "X_train_n = scaler.transform(X_train.reshape(-1, nf)).reshape(ns, ws, nf)\n",
    "X_test_n  = scaler.transform(X_test.reshape(-1, nf)).reshape(-1, ws, nf)\n",
    "\n",
    "train_loader_n = DataLoader(TensorDataset(torch.from_numpy(X_train_n).float(),\n",
    "                                          torch.from_numpy(y_train).float()),\n",
    "                            batch_size=32, shuffle=True)\n",
    "test_loader_n  = DataLoader(TensorDataset(torch.from_numpy(X_test_n ).float(),\n",
    "                                          torch.from_numpy(y_test ).float()),\n",
    "                            batch_size=32, shuffle=False)\n",
    "\n",
    "# 10) 訓練 Normalized 模型\n",
    "model_norm = LSTMModel(input_dim=4, hidden_dim=500, num_layers=2, output_dim=1)\n",
    "opt_norm   = torch.optim.Adam(model_norm.parameters(), lr=1e-3)\n",
    "for _ in range(100):\n",
    "    model_norm.train()\n",
    "    for xb, yb in train_loader_n:\n",
    "        opt_norm.zero_grad()\n",
    "        loss = criterion(model_norm(xb).squeeze(), yb)\n",
    "        loss.backward()\n",
    "        opt_norm.step()\n",
    "\n",
    "# 11) 計算 Normalized Test MSE\n",
    "model_norm.eval()\n",
    "total_norm = 0.0\n",
    "with torch.no_grad():\n",
    "    for xb, yb in test_loader_n:\n",
    "        total_norm += criterion(model_norm(xb).squeeze(), yb).item()\n",
    "mse_norm = total_norm / len(test_loader_n)\n",
    "\n",
    "print(f\"Raw features Test MSE        = {mse_raw:.4f}\")\n",
    "print(f\"Train-set Norm. features MSE = {mse_norm:.4f}\")\n"
   ]
  }
 ],
 "metadata": {
  "accelerator": "GPU",
  "colab": {
   "gpuType": "T4",
   "provenance": []
  },
  "kernelspec": {
   "display_name": "Python 3",
   "name": "python3"
  },
  "language_info": {
   "codemirror_mode": {
    "name": "ipython",
    "version": 3
   },
   "file_extension": ".py",
   "mimetype": "text/x-python",
   "name": "python",
   "nbconvert_exporter": "python",
   "pygments_lexer": "ipython3",
   "version": "3.8.13"
  }
 },
 "nbformat": 4,
 "nbformat_minor": 5
}
